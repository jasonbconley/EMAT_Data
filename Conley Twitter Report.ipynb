{
 "cells": [
  {
   "cell_type": "markdown",
   "id": "a6300296",
   "metadata": {},
   "source": [
    "# Overwatch Halloween Conversation Exploration\n",
    "The following report analyses the Overwatch community response to the new Halloween event in-game. Blizzard, the company that owns Overwatch, typically runs an event for most large holidays. This Halloween is special because it is the first event for the holiday within the next game in the series, Overwatch 2.  \n",
    "\n",
    "The game has faced a lot of scrutiny because of many factors like company culture issues and scandals, and the lack of variation between the first game and the sequel.  \n",
    "\n",
    "This report is going to look at the response from the community toward the event. Also, it is going to analyze if there is possibly any work that Blizzard could do to help benefit the game using the platform.\n"
   ]
  },
  {
   "cell_type": "markdown",
   "id": "7f94ac97",
   "metadata": {},
   "source": [
    "## Importing Libraries, Generating Query, Getting Response"
   ]
  },
  {
   "cell_type": "code",
   "execution_count": 174,
   "id": "67d6ec9c",
   "metadata": {},
   "outputs": [],
   "source": [
    "import requests\n",
    "import json5\n",
    "import urllib as url\n",
    "import pandas as pd\n",
    "import numpy as np"
   ]
  },
  {
   "cell_type": "code",
   "execution_count": 175,
   "id": "66c10f45",
   "metadata": {},
   "outputs": [],
   "source": [
    "bearer_token = pd.read_csv('tokens.txt', header = 0)['Bearer_Token'].iloc[0]\n",
    "header = {'Authorization':'Bearer {}'.format(bearer_token)}\n",
    "endpoint = 'https://api.twitter.com/2/tweets/search/recent'"
   ]
  },
  {
   "cell_type": "markdown",
   "id": "f8ddf167",
   "metadata": {},
   "source": [
    "The query is trying to gather the sentiment of the community surrounding the event. By using the keyword Overwatch and 2, this ensures that the query filters to our specific event. Then, including the keywords Halloween and event further allows the query to grab the tweets that are needed for this report. The keyword 2 is omitted to make sure that tweets are gathered even if the text does not contain the full title of the game."
   ]
  },
  {
   "cell_type": "code",
   "execution_count": 176,
   "id": "f5e4b42d",
   "metadata": {},
   "outputs": [],
   "source": [
    "query = url.parse.quote('(overwatch halloween OR overwatch 2 halloween OR overwatch 2 event OR overwatch 2 meta OR overwatch halloween OR overwatch event) lang:en -is:retweet')\n",
    "expansions = url.parse.quote('attachments.media_keys,author_id')\n",
    "media_fields = url.parse.quote('alt_text,url,public_metrics')\n",
    "user_fields = url.parse.quote('username,verified')\n",
    "tweet_fields = url.parse.quote('attachments,author_id,created_at')\n",
    "search_recent_url = endpoint + '?query={}&expansions={}&user.fields={}&media.fields={}&tweet.fields={}&max_results=100'.format(query,expansions,user_fields,media_fields,tweet_fields)"
   ]
  },
  {
   "cell_type": "markdown",
   "id": "3d7d3485",
   "metadata": {},
   "source": [
    "Pagination is required to gather more than one page of tweets for the query. This is done below to grab 20 pages of 100 tweets each, and then store the results in a dictionary."
   ]
  },
  {
   "cell_type": "code",
   "execution_count": 177,
   "id": "dc90c8fe",
   "metadata": {},
   "outputs": [],
   "source": [
    "def pagination(query, headerVals, pages):\n",
    "    response_list = []\n",
    "    next_token = ''\n",
    "    for i in range(pages):\n",
    "        if i > 0:\n",
    "            this_query = query + '&next_token={}'.format(next_token)\n",
    "        else:\n",
    "            this_query = query\n",
    "            \n",
    "        response = requests.get(query, headers = header)\n",
    "        response_dict = json5.loads(response.text)\n",
    "        response_list.append(response_dict)\n",
    "        next_token = response_dict['meta']['next_token']\n",
    "    return response_list\n",
    "\n",
    "page_dict = pagination(search_recent_url, header, 20)"
   ]
  },
  {
   "cell_type": "markdown",
   "id": "984e51d1",
   "metadata": {},
   "source": [
    "## Data Organization, Exploration, and Analysis\n",
    "\n",
    "The below is the code to generate the data frame that stores the tweets. There are 20 entries because of the 20 iterations of pagination. Each row in the data frame holds a list of dictionaries that hold 100 tweets each. The total tweet count is 2000."
   ]
  },
  {
   "cell_type": "code",
   "execution_count": 178,
   "id": "a45385b7",
   "metadata": {},
   "outputs": [],
   "source": [
    "results = pd.DataFrame.from_records(page_dict)"
   ]
  },
  {
   "cell_type": "code",
   "execution_count": 231,
   "id": "44abb768",
   "metadata": {},
   "outputs": [
    {
     "data": {
      "text/html": [
       "<div>\n",
       "<style scoped>\n",
       "    .dataframe tbody tr th:only-of-type {\n",
       "        vertical-align: middle;\n",
       "    }\n",
       "\n",
       "    .dataframe tbody tr th {\n",
       "        vertical-align: top;\n",
       "    }\n",
       "\n",
       "    .dataframe thead th {\n",
       "        text-align: right;\n",
       "    }\n",
       "</style>\n",
       "<table border=\"1\" class=\"dataframe\">\n",
       "  <thead>\n",
       "    <tr style=\"text-align: right;\">\n",
       "      <th></th>\n",
       "      <th>Username</th>\n",
       "    </tr>\n",
       "    <tr>\n",
       "      <th>Verified</th>\n",
       "      <th></th>\n",
       "    </tr>\n",
       "  </thead>\n",
       "  <tbody>\n",
       "    <tr>\n",
       "      <th>False</th>\n",
       "      <td>1980</td>\n",
       "    </tr>\n",
       "  </tbody>\n",
       "</table>\n",
       "</div>"
      ],
      "text/plain": [
       "          Username\n",
       "Verified          \n",
       "False         1980"
      ]
     },
     "execution_count": 231,
     "metadata": {},
     "output_type": "execute_result"
    }
   ],
   "source": [
    "usernames = []\n",
    "verified = []\n",
    "\n",
    "for entry in results['includes']:\n",
    "    for name in entry['users']:\n",
    "        usernames.append(name['username'])\n",
    "        verified.append(name['verified'])\n",
    " \n",
    "userInfo = pd.concat([pd.Series(usernames), pd.Series(verified)], axis=1)\n",
    "userInfo = userInfo.rename(columns={0: 'Username', 1: 'Verified'})\n",
    "userInfo.groupby(['Verified']).count()"
   ]
  },
  {
   "cell_type": "markdown",
   "id": "427e01df",
   "metadata": {},
   "source": [
    "The above result is interesting. This result indicates that the conversation surrounding the Overwatch Halloween event is completely had by non-verified users. If I were a social media manager for Blizzard, I am not sure if this would be good or bad for the game. \n",
    "The event is circulating throughout large groups of non-verified people, and this means that the game has a large pool of people that are interested without being financially motivated like an influencer or company account. This can be good because the game is circulating by word of mouth without much financial input.\n",
    "On the other side, a social media manager may want to see verified users speak about the game on the platform. Typically, verified users have a wider reach, and Blizzard would be interested in some influencer-like individuals talking about their game.\n",
    "Overall, I think this exploration would be beneficial for Blizzard to see on a longer time scale. That scale could include from the time any teasers for the event came out, until the end of the event. Then, the company could understand if there is a need for more verified accounts to weigh in on their events to hopefully reach a bigger audience."
   ]
  },
  {
   "cell_type": "markdown",
   "id": "d4f02a0b",
   "metadata": {},
   "source": [
    "The next code snipped will gather all of the text fields for each of the tweets. The length of the resulting list should match the number of tweets requested from the API. This data is gathered from the includes field. "
   ]
  },
  {
   "cell_type": "code",
   "execution_count": 232,
   "id": "ef9c13b7",
   "metadata": {},
   "outputs": [
    {
     "data": {
      "text/plain": [
       "2000"
      ]
     },
     "execution_count": 232,
     "metadata": {},
     "output_type": "execute_result"
    }
   ],
   "source": [
    "tweet_text = []\n",
    "tweet_length = []\n",
    "for entry in results['data']:\n",
    "    for tweet in entry:\n",
    "        string = tweet['text'].encode('utf-16', 'surrogatepass').decode('utf-16')\n",
    "        tweet_text.append(string)\n",
    "        tweet_length.append(len(string))\n",
    "len(tweet_text)"
   ]
  },
  {
   "cell_type": "code",
   "execution_count": 197,
   "id": "f0f7f460",
   "metadata": {},
   "outputs": [
    {
     "data": {
      "text/html": [
       "<div>\n",
       "<style scoped>\n",
       "    .dataframe tbody tr th:only-of-type {\n",
       "        vertical-align: middle;\n",
       "    }\n",
       "\n",
       "    .dataframe tbody tr th {\n",
       "        vertical-align: top;\n",
       "    }\n",
       "\n",
       "    .dataframe thead th {\n",
       "        text-align: right;\n",
       "    }\n",
       "</style>\n",
       "<table border=\"1\" class=\"dataframe\">\n",
       "  <thead>\n",
       "    <tr style=\"text-align: right;\">\n",
       "      <th></th>\n",
       "      <th>Tweet</th>\n",
       "      <th>Length</th>\n",
       "    </tr>\n",
       "  </thead>\n",
       "  <tbody>\n",
       "    <tr>\n",
       "      <th>1702</th>\n",
       "      <td>Community Overwatch 2 Night!! UFEA-ers, it's t...</td>\n",
       "      <td>303</td>\n",
       "    </tr>\n",
       "    <tr>\n",
       "      <th>601</th>\n",
       "      <td>Community Overwatch 2 Night!! UFEA-ers, it's t...</td>\n",
       "      <td>303</td>\n",
       "    </tr>\n",
       "    <tr>\n",
       "      <th>201</th>\n",
       "      <td>Community Overwatch 2 Night!! UFEA-ers, it's t...</td>\n",
       "      <td>303</td>\n",
       "    </tr>\n",
       "    <tr>\n",
       "      <th>501</th>\n",
       "      <td>Community Overwatch 2 Night!! UFEA-ers, it's t...</td>\n",
       "      <td>303</td>\n",
       "    </tr>\n",
       "    <tr>\n",
       "      <th>1502</th>\n",
       "      <td>Community Overwatch 2 Night!! UFEA-ers, it's t...</td>\n",
       "      <td>303</td>\n",
       "    </tr>\n",
       "  </tbody>\n",
       "</table>\n",
       "</div>"
      ],
      "text/plain": [
       "                                                  Tweet  Length\n",
       "1702  Community Overwatch 2 Night!! UFEA-ers, it's t...     303\n",
       "601   Community Overwatch 2 Night!! UFEA-ers, it's t...     303\n",
       "201   Community Overwatch 2 Night!! UFEA-ers, it's t...     303\n",
       "501   Community Overwatch 2 Night!! UFEA-ers, it's t...     303\n",
       "1502  Community Overwatch 2 Night!! UFEA-ers, it's t...     303"
      ]
     },
     "execution_count": 197,
     "metadata": {},
     "output_type": "execute_result"
    }
   ],
   "source": [
    "tweetInfo = pd.concat([pd.Series(tweet_text), pd.Series(tweet_length)], axis=1)\n",
    "tweetInfo = tweetInfo.rename(columns={0: 'Tweet', 1: 'Length'})\n",
    "tweetLength = tweetInfo.sort_values(by=['Length'], ascending=False)\n",
    "tweetLength.head()"
   ]
  },
  {
   "cell_type": "markdown",
   "id": "fb01e78a",
   "metadata": {},
   "source": [
    "The above data frame includes all tweets sorted by their length. The longest tweet is 303 characters, including the links at the end, as well as new line characters. There are many repeating values which will be spoke about further. Overall, longer tweets could have a negative impact on the conversation because of the need for brevity in Social Media."
   ]
  },
  {
   "cell_type": "code",
   "execution_count": 212,
   "id": "a6732a16",
   "metadata": {},
   "outputs": [
    {
     "data": {
      "text/plain": [
       "'Community Overwatch 2 Night!! UFEA-ers, it\\'s time for some FUN community night play! We are going to be running a \"Open Bracket\" Overwatch 2 mini-tournament tonight at 6:00pm PT / 9:00pm ET. \\n\\nEvent Link: https://t.co/Zj6Ll4lc4l \\n\\nView on our Twitch Page: https://t.co/7WBmaP3r2P https://t.co/kL4YtqT4y9'"
      ]
     },
     "execution_count": 212,
     "metadata": {},
     "output_type": "execute_result"
    }
   ],
   "source": [
    "tweetLength['Tweet'][1702]"
   ]
  },
  {
   "cell_type": "code",
   "execution_count": 203,
   "id": "ce72fc63",
   "metadata": {},
   "outputs": [
    {
     "data": {
      "text/plain": [
       "True"
      ]
     },
     "execution_count": 203,
     "metadata": {},
     "output_type": "execute_result"
    }
   ],
   "source": [
    "tweetLength['Tweet'][601] == tweetLength['Tweet'][1702] == tweetLength['Tweet'][201] == tweetLength['Tweet'][501]"
   ]
  },
  {
   "cell_type": "code",
   "execution_count": 209,
   "id": "7f75964d",
   "metadata": {},
   "outputs": [
    {
     "data": {
      "text/plain": [
       "20"
      ]
     },
     "execution_count": 209,
     "metadata": {},
     "output_type": "execute_result"
    }
   ],
   "source": [
    "len(tweetLength.loc[tweetLength['Length'] == 303])"
   ]
  },
  {
   "cell_type": "markdown",
   "id": "add3fd8f",
   "metadata": {},
   "source": [
    "The query at the beginning of the report excludes re-tweets from the returning object. It is interesting that about 20 of the tweets in this conversation are the longest tweets in the set, and also that they are all the same text values. This is a data issue in this report that was not expected.  \n",
    "I do not know if repeating values are typically good or bad in a conversational dataset. There is one view where a repeating value represents a sentiment that is *stronger* than another because it is being repeated, another is that the repeated sentence is just spam in the conversation. In this situation, I think the repeating values may be negative spam.  \n",
    "The text related to the repeated values seems to be an ad, and if that is the case, it does not provide a deeper insight into the conversation happening on twitter surrounding the Overwatch 2 event.\n",
    "This may be an issue with the dataset if there are more instances of repeating tweets."
   ]
  },
  {
   "cell_type": "code",
   "execution_count": 229,
   "id": "33b89a42",
   "metadata": {},
   "outputs": [
    {
     "name": "stdout",
     "output_type": "stream",
     "text": [
      "101\n",
      "100\n"
     ]
    }
   ],
   "source": [
    "print(len(tweetInfo.Tweet.unique()))\n",
    "print(len(userInfo.Username.unique()))"
   ]
  },
  {
   "cell_type": "markdown",
   "id": "7d6216c7",
   "metadata": {},
   "source": [
    "This snippet of code above confirms the issue with the tweet dataset. There are only *101* unique tweets out of a dataset of *2000* tweets with pagination. An equally important finding is that there are only 100 unique users tweeting about the event according to the dataset that was gathered.\n",
    "There is something interesting going on with the conversation surrounding the Overwatch 2 Halloween event. The next steps would be to explore why there is such a low number of unique tweets, as well as why there are so little unique users talking about the event.\n",
    "The last exploration that should be done regarding this problem is to look at when the tweets were created."
   ]
  },
  {
   "cell_type": "code",
   "execution_count": 272,
   "id": "90f9f7d4",
   "metadata": {},
   "outputs": [
    {
     "name": "stdout",
     "output_type": "stream",
     "text": [
      "2022-10-25T22:45:24.000Z\n",
      "2022-10-25T22:07:00.000Z\n"
     ]
    }
   ],
   "source": [
    "from dateutil import parser\n",
    "from datetime import datetime\n",
    "\n",
    "results['data'][0][0]['created_at']\n",
    "created_vals = []\n",
    "\n",
    "for entry in results['data']:\n",
    "    for value in entry:\n",
    "        created_vals.append(value['created_at'])\n",
    "print(created_vals[1])\n",
    "print(created_vals[-1])"
   ]
  },
  {
   "cell_type": "markdown",
   "id": "f8e82e5b",
   "metadata": {},
   "source": [
    "Finally, from the above code we can see that the tweets are only collected within about a 45 minute time frame. This is important because of our previous findings. It is an issue that the dataset is not unique, but if we are only capturing a 45 minute conversation, this is slightly less worrisome. This does not mean the issue is non-existent, and it should definitely be investigated by Blizzard to see if they can help steer conversations toward the benefit of the game."
   ]
  },
  {
   "cell_type": "markdown",
   "id": "c827dd97",
   "metadata": {},
   "source": [
    "## Conclusion\n",
    "\n",
    "The above tweet exploration performed on the Overwatch 2 Halloween Event derived valuable insights and experience for myself, but would be equally as insightful for a Blizzard social media employee. The dataset queried tweets across a 45 minute timeframe, but these tweets were not unique from one another and were mostly from non-verified users. A social media manager would see this and possibly attempt to drive more verified users to the conversation."
   ]
  }
 ],
 "metadata": {
  "kernelspec": {
   "display_name": "Python 3 (ipykernel)",
   "language": "python",
   "name": "python3"
  },
  "language_info": {
   "codemirror_mode": {
    "name": "ipython",
    "version": 3
   },
   "file_extension": ".py",
   "mimetype": "text/x-python",
   "name": "python",
   "nbconvert_exporter": "python",
   "pygments_lexer": "ipython3",
   "version": "3.10.4"
  }
 },
 "nbformat": 4,
 "nbformat_minor": 5
}
