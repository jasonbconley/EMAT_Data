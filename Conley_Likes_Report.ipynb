{
 "cells": [
  {
   "cell_type": "markdown",
   "id": "626a980a",
   "metadata": {},
   "source": [
    "# Analyzing my Life via Instagram\n",
    "\n",
    "## Background of Data\n",
    "The below data was most likely collected by Instagram for ad targeting, user grouping, and other nefarious actions users may not have meant to consent to. In short, Instagram collects this data to make money."
   ]
  },
  {
   "cell_type": "markdown",
   "id": "c5b58c2b",
   "metadata": {},
   "source": [
    "## Purpose\n",
    "This report will view the data and be used to reflect on my own actions on Instagram.\n",
    "\n",
    "The data is reliable because the links stored still work, sadly like this one:\n",
    "![Logan Paul](https://i.imgur.com/JFWm718.png)\n",
    "*Note: I am cringing very hard that this was a post that I liked at one point*\n",
    "\n",
    "The data may be unreliable if Instagram does not remove a like from the dictionary when a post is *unliked*, this has not been tested."
   ]
  },
  {
   "cell_type": "code",
   "execution_count": 52,
   "id": "bbfe85f3",
   "metadata": {},
   "outputs": [],
   "source": [
    "import pandas as pd\n",
    "import json5 as js\n",
    "\n",
    "with open(r'instagram_data/likes/liked_posts.json') as data:\n",
    "    insta_dat = js.load(data)"
   ]
  },
  {
   "cell_type": "markdown",
   "id": "c186a26e",
   "metadata": {},
   "source": [
    "It makes sense to do the following with the json file:\n",
    "1. Access the relevant dictionary\n",
    "2. Tally the number of duplicate titles with count\n",
    "3. Compress the titles into a single entry with groupby\n",
    "4. Rename the relevant columns\n",
    "5. Sort the values\n",
    "6. Visualize the data\n",
    "7. Confirm or deny Hypothesis"
   ]
  },
  {
   "cell_type": "markdown",
   "id": "9d8a35a4",
   "metadata": {},
   "source": [
    "# Theoretical Hypothesis\n",
    "## *The likes per account will be distributed evenly across the accounts of my close friends from High School*\n",
    "# Statistical Hypothesis\n",
    "## *The distribution of the likes will be normal with a mean of like tied to a group of my close friends*"
   ]
  },
  {
   "cell_type": "code",
   "execution_count": 53,
   "id": "fc1f94f0",
   "metadata": {},
   "outputs": [
    {
     "data": {
      "text/html": [
       "<div>\n",
       "<style scoped>\n",
       "    .dataframe tbody tr th:only-of-type {\n",
       "        vertical-align: middle;\n",
       "    }\n",
       "\n",
       "    .dataframe tbody tr th {\n",
       "        vertical-align: top;\n",
       "    }\n",
       "\n",
       "    .dataframe thead th {\n",
       "        text-align: right;\n",
       "    }\n",
       "</style>\n",
       "<table border=\"1\" class=\"dataframe\">\n",
       "  <thead>\n",
       "    <tr style=\"text-align: right;\">\n",
       "      <th></th>\n",
       "      <th>title</th>\n",
       "      <th>media_list_data</th>\n",
       "      <th>string_list_data</th>\n",
       "    </tr>\n",
       "  </thead>\n",
       "  <tbody>\n",
       "    <tr>\n",
       "      <th>0</th>\n",
       "      <td>theanvil2827</td>\n",
       "      <td>[]</td>\n",
       "      <td>[{'href': 'https://www.instagram.com/p/m76DmoI...</td>\n",
       "    </tr>\n",
       "    <tr>\n",
       "      <th>1</th>\n",
       "      <td>syndicate</td>\n",
       "      <td>[]</td>\n",
       "      <td>[{'href': 'https://www.instagram.com/p/m65nkyH...</td>\n",
       "    </tr>\n",
       "    <tr>\n",
       "      <th>2</th>\n",
       "      <td>loganpaul</td>\n",
       "      <td>[]</td>\n",
       "      <td>[{'href': 'https://www.instagram.com/p/m6Agcvg...</td>\n",
       "    </tr>\n",
       "    <tr>\n",
       "      <th>3</th>\n",
       "      <td>syndicate</td>\n",
       "      <td>[]</td>\n",
       "      <td>[{'href': 'https://www.instagram.com/p/m5kBh7H...</td>\n",
       "    </tr>\n",
       "    <tr>\n",
       "      <th>4</th>\n",
       "      <td>joeykoplow</td>\n",
       "      <td>[]</td>\n",
       "      <td>[{'href': 'https://www.instagram.com/p/m5hS_FB...</td>\n",
       "    </tr>\n",
       "  </tbody>\n",
       "</table>\n",
       "</div>"
      ],
      "text/plain": [
       "          title media_list_data  \\\n",
       "0  theanvil2827              []   \n",
       "1     syndicate              []   \n",
       "2     loganpaul              []   \n",
       "3     syndicate              []   \n",
       "4    joeykoplow              []   \n",
       "\n",
       "                                    string_list_data  \n",
       "0  [{'href': 'https://www.instagram.com/p/m76DmoI...  \n",
       "1  [{'href': 'https://www.instagram.com/p/m65nkyH...  \n",
       "2  [{'href': 'https://www.instagram.com/p/m6Agcvg...  \n",
       "3  [{'href': 'https://www.instagram.com/p/m5kBh7H...  \n",
       "4  [{'href': 'https://www.instagram.com/p/m5hS_FB...  "
      ]
     },
     "execution_count": 53,
     "metadata": {},
     "output_type": "execute_result"
    }
   ],
   "source": [
    "insta_dat = pd.DataFrame(insta_dat['likes_media_likes'])\n",
    "insta_dat.head()"
   ]
  },
  {
   "cell_type": "code",
   "execution_count": 54,
   "id": "1d9969b3",
   "metadata": {},
   "outputs": [
    {
     "data": {
      "text/html": [
       "<div>\n",
       "<style scoped>\n",
       "    .dataframe tbody tr th:only-of-type {\n",
       "        vertical-align: middle;\n",
       "    }\n",
       "\n",
       "    .dataframe tbody tr th {\n",
       "        vertical-align: top;\n",
       "    }\n",
       "\n",
       "    .dataframe thead th {\n",
       "        text-align: right;\n",
       "    }\n",
       "</style>\n",
       "<table border=\"1\" class=\"dataframe\">\n",
       "  <thead>\n",
       "    <tr style=\"text-align: right;\">\n",
       "      <th></th>\n",
       "      <th>media_list_data</th>\n",
       "      <th>string_list_data</th>\n",
       "    </tr>\n",
       "    <tr>\n",
       "      <th>title</th>\n",
       "      <th></th>\n",
       "      <th></th>\n",
       "    </tr>\n",
       "  </thead>\n",
       "  <tbody>\n",
       "    <tr>\n",
       "      <th>303_mopar</th>\n",
       "      <td>1</td>\n",
       "      <td>1</td>\n",
       "    </tr>\n",
       "    <tr>\n",
       "      <th>361usa</th>\n",
       "      <td>1</td>\n",
       "      <td>1</td>\n",
       "    </tr>\n",
       "    <tr>\n",
       "      <th>__haley_mccormick_</th>\n",
       "      <td>8</td>\n",
       "      <td>8</td>\n",
       "    </tr>\n",
       "    <tr>\n",
       "      <th>_coleman2</th>\n",
       "      <td>1</td>\n",
       "      <td>1</td>\n",
       "    </tr>\n",
       "    <tr>\n",
       "      <th>_haley_sue_</th>\n",
       "      <td>4</td>\n",
       "      <td>4</td>\n",
       "    </tr>\n",
       "    <tr>\n",
       "      <th>...</th>\n",
       "      <td>...</td>\n",
       "      <td>...</td>\n",
       "    </tr>\n",
       "    <tr>\n",
       "      <th>yourdailysquidward</th>\n",
       "      <td>1</td>\n",
       "      <td>1</td>\n",
       "    </tr>\n",
       "    <tr>\n",
       "      <th>zero_wisdom</th>\n",
       "      <td>1</td>\n",
       "      <td>1</td>\n",
       "    </tr>\n",
       "    <tr>\n",
       "      <th>zoe_swenson</th>\n",
       "      <td>2</td>\n",
       "      <td>2</td>\n",
       "    </tr>\n",
       "    <tr>\n",
       "      <th>zooculture</th>\n",
       "      <td>6</td>\n",
       "      <td>6</td>\n",
       "    </tr>\n",
       "    <tr>\n",
       "      <th>zooeydeschanel</th>\n",
       "      <td>2</td>\n",
       "      <td>2</td>\n",
       "    </tr>\n",
       "  </tbody>\n",
       "</table>\n",
       "<p>399 rows × 2 columns</p>\n",
       "</div>"
      ],
      "text/plain": [
       "                    media_list_data  string_list_data\n",
       "title                                                \n",
       "303_mopar                         1                 1\n",
       "361usa                            1                 1\n",
       "__haley_mccormick_                8                 8\n",
       "_coleman2                         1                 1\n",
       "_haley_sue_                       4                 4\n",
       "...                             ...               ...\n",
       "yourdailysquidward                1                 1\n",
       "zero_wisdom                       1                 1\n",
       "zoe_swenson                       2                 2\n",
       "zooculture                        6                 6\n",
       "zooeydeschanel                    2                 2\n",
       "\n",
       "[399 rows x 2 columns]"
      ]
     },
     "execution_count": 54,
     "metadata": {},
     "output_type": "execute_result"
    }
   ],
   "source": [
    "value_counts = insta_dat.groupby(['title']).count()\n",
    "value_counts"
   ]
  },
  {
   "cell_type": "code",
   "execution_count": 55,
   "id": "667af20e",
   "metadata": {},
   "outputs": [
    {
     "data": {
      "text/html": [
       "<div>\n",
       "<style scoped>\n",
       "    .dataframe tbody tr th:only-of-type {\n",
       "        vertical-align: middle;\n",
       "    }\n",
       "\n",
       "    .dataframe tbody tr th {\n",
       "        vertical-align: top;\n",
       "    }\n",
       "\n",
       "    .dataframe thead th {\n",
       "        text-align: right;\n",
       "    }\n",
       "</style>\n",
       "<table border=\"1\" class=\"dataframe\">\n",
       "  <thead>\n",
       "    <tr style=\"text-align: right;\">\n",
       "      <th></th>\n",
       "      <th>Count</th>\n",
       "    </tr>\n",
       "    <tr>\n",
       "      <th>title</th>\n",
       "      <th></th>\n",
       "    </tr>\n",
       "  </thead>\n",
       "  <tbody>\n",
       "    <tr>\n",
       "      <th>therock</th>\n",
       "      <td>188</td>\n",
       "    </tr>\n",
       "    <tr>\n",
       "      <th>kevinhart4real</th>\n",
       "      <td>148</td>\n",
       "    </tr>\n",
       "    <tr>\n",
       "      <th>flotrack</th>\n",
       "      <td>126</td>\n",
       "    </tr>\n",
       "    <tr>\n",
       "      <th>runnersworldmag</th>\n",
       "      <td>110</td>\n",
       "    </tr>\n",
       "    <tr>\n",
       "      <th>milesplit</th>\n",
       "      <td>102</td>\n",
       "    </tr>\n",
       "    <tr>\n",
       "      <th>...</th>\n",
       "      <td>...</td>\n",
       "    </tr>\n",
       "    <tr>\n",
       "      <th>eric_jacks0n1</th>\n",
       "      <td>1</td>\n",
       "    </tr>\n",
       "    <tr>\n",
       "      <th>emilia_clarke</th>\n",
       "      <td>1</td>\n",
       "    </tr>\n",
       "    <tr>\n",
       "      <th>osxky</th>\n",
       "      <td>1</td>\n",
       "    </tr>\n",
       "    <tr>\n",
       "      <th>over.watchmeme</th>\n",
       "      <td>1</td>\n",
       "    </tr>\n",
       "    <tr>\n",
       "      <th>303_mopar</th>\n",
       "      <td>1</td>\n",
       "    </tr>\n",
       "  </tbody>\n",
       "</table>\n",
       "<p>399 rows × 1 columns</p>\n",
       "</div>"
      ],
      "text/plain": [
       "                 Count\n",
       "title                 \n",
       "therock            188\n",
       "kevinhart4real     148\n",
       "flotrack           126\n",
       "runnersworldmag    110\n",
       "milesplit          102\n",
       "...                ...\n",
       "eric_jacks0n1        1\n",
       "emilia_clarke        1\n",
       "osxky                1\n",
       "over.watchmeme       1\n",
       "303_mopar            1\n",
       "\n",
       "[399 rows x 1 columns]"
      ]
     },
     "execution_count": 55,
     "metadata": {},
     "output_type": "execute_result"
    }
   ],
   "source": [
    "finalDf = pd.DataFrame({\"Count\":value_counts['media_list_data']})\n",
    "finalDf = finalDf.sort_values('Count', ascending=False)\n",
    "finalDf"
   ]
  },
  {
   "cell_type": "markdown",
   "id": "00eea8c8",
   "metadata": {},
   "source": [
    "As a method of viewing the distribution of likes in the data frame, a heatmap will be used to visualize the numerical to nominal data connection"
   ]
  },
  {
   "cell_type": "code",
   "execution_count": 56,
   "id": "73444e59",
   "metadata": {},
   "outputs": [
    {
     "data": {
      "text/plain": [
       "<AxesSubplot:ylabel='title'>"
      ]
     },
     "execution_count": 56,
     "metadata": {},
     "output_type": "execute_result"
    },
    {
     "data": {
      "image/png": "[encoded data removed]",
      "text/plain": [
       "<Figure size 432x288 with 2 Axes>"
      ]
     },
     "metadata": {
      "needs_background": "light"
     },
     "output_type": "display_data"
    }
   ],
   "source": [
    "import seaborn as sns\n",
    "sns.heatmap(finalDf)"
   ]
  },
  {
   "cell_type": "markdown",
   "id": "95190999",
   "metadata": {},
   "source": [
    "Based on the above map, it is obvious the majority of accounts have been liked < 15 times. Only a small number of accounts have been liked > 50 times."
   ]
  },
  {
   "cell_type": "code",
   "execution_count": 57,
   "id": "6b037411",
   "metadata": {},
   "outputs": [
    {
     "data": {
      "text/plain": [
       "<AxesSubplot:ylabel='title'>"
      ]
     },
     "execution_count": 57,
     "metadata": {},
     "output_type": "execute_result"
    },
    {
     "data": {
      "image/png": "[encoded data removed]",
      "text/plain": [
       "<Figure size 432x288 with 2 Axes>"
      ]
     },
     "metadata": {
      "needs_background": "light"
     },
     "output_type": "display_data"
    }
   ],
   "source": [
    "sns.heatmap(finalDf[:50], vmin=0)"
   ]
  },
  {
   "cell_type": "markdown",
   "id": "fb44669d",
   "metadata": {},
   "source": [
    "Here are the top 50 accounts. The distribution is slightly better, most accounts are above 25 likes."
   ]
  },
  {
   "cell_type": "code",
   "execution_count": 58,
   "id": "f7ec62e4",
   "metadata": {},
   "outputs": [
    {
     "data": {
      "text/plain": [
       "<AxesSubplot:ylabel='title'>"
      ]
     },
     "execution_count": 58,
     "metadata": {},
     "output_type": "execute_result"
    },
    {
     "data": {
      "image/png": "[encoded data removed]",
      "text/plain": [
       "<Figure size 432x288 with 2 Axes>"
      ]
     },
     "metadata": {
      "needs_background": "light"
     },
     "output_type": "display_data"
    }
   ],
   "source": [
    "sns.heatmap(finalDf[:20], vmin=0)"
   ]
  },
  {
   "cell_type": "code",
   "execution_count": 59,
   "id": "cc7b397e",
   "metadata": {},
   "outputs": [
    {
     "data": {
      "text/plain": [
       "<AxesSubplot:ylabel='title'>"
      ]
     },
     "execution_count": 59,
     "metadata": {},
     "output_type": "execute_result"
    },
    {
     "data": {
      "image/png": "[encoded data removed]",
      "text/plain": [
       "<Figure size 432x288 with 2 Axes>"
      ]
     },
     "metadata": {
      "needs_background": "light"
     },
     "output_type": "display_data"
    }
   ],
   "source": [
    "sns.heatmap(finalDf[:10], vmin=0)"
   ]
  },
  {
   "cell_type": "markdown",
   "id": "a0a13996",
   "metadata": {},
   "source": [
    "The top 10 accounts still have a large variance in the number of likes. The range seems to be from 75 - 180 likes."
   ]
  },
  {
   "cell_type": "code",
   "execution_count": 60,
   "id": "497364f4",
   "metadata": {},
   "outputs": [
    {
     "data": {
      "text/plain": [
       "<AxesSubplot:ylabel='title'>"
      ]
     },
     "execution_count": 60,
     "metadata": {},
     "output_type": "execute_result"
    },
    {
     "data": {
      "image/png": "[encoded data removed]",
      "text/plain": [
       "<Figure size 432x288 with 2 Axes>"
      ]
     },
     "metadata": {
      "needs_background": "light"
     },
     "output_type": "display_data"
    }
   ],
   "source": [
    "sns.heatmap(finalDf[:5], vmin=0)"
   ]
  },
  {
   "cell_type": "markdown",
   "id": "8c45fce5",
   "metadata": {},
   "source": [
    "It is obvious from the above visualizations that the majority of likes are dedicated to therocks account. The drop in likes increases drastically as the next account is considered. \n",
    "\n",
    "### *The hypothesis has been rejected, as the majority of accounts in the top 20 are accounts from publications or celebrities.*\n",
    "\n",
    "### *A deduction from this finding is that I definitely do not remember liking this many posts from one person. This is kind of troubling because I had spent so much time on the app.*\n",
    "\n",
    "![Rejected](https://thumbs.gfycat.com/GranularDistantAmericancrow-mobile.mp4 \"rejected\")"
   ]
  }
 ],
 "metadata": {
  "kernelspec": {
   "display_name": "Python 3 (ipykernel)",
   "language": "python",
   "name": "python3"
  },
  "language_info": {
   "codemirror_mode": {
    "name": "ipython",
    "version": 3
   },
   "file_extension": ".py",
   "mimetype": "text/x-python",
   "name": "python",
   "nbconvert_exporter": "python",
   "pygments_lexer": "ipython3",
   "version": "3.10.4"
  }
 },
 "nbformat": 4,
 "nbformat_minor": 5
}
