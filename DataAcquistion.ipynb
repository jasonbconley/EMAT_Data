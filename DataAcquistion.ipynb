{
 "cells": [
  {
   "cell_type": "code",
   "execution_count": 24,
   "id": "4a0accc2",
   "metadata": {},
   "outputs": [],
   "source": [
    "import requests\n",
    "import pandas as pd\n",
    "import numpy as np"
   ]
  },
  {
   "cell_type": "markdown",
   "id": "3d36ea51",
   "metadata": {},
   "source": [
    "# Acquiring the Data\n",
    "The following files were downloaded manually from the FEC website. The datasets will be used to analyze where the individual contributions were coming from for both candidates."
   ]
  },
  {
   "cell_type": "code",
   "execution_count": 16,
   "id": "80f6a7a9",
   "metadata": {},
   "outputs": [],
   "source": [
    "ryan = pd.read_excel('ryan.xlsx')\n",
    "vance = pd.read_excel('vance.xlsx')"
   ]
  },
  {
   "cell_type": "code",
   "execution_count": 23,
   "id": "a5118faf",
   "metadata": {},
   "outputs": [
    {
     "data": {
      "text/plain": [
       "0            PO Box 382110\n",
       "1        4752 Constance Dr\n",
       "2            PO Box 382110\n",
       "3        1142 Woodbine Ave\n",
       "4            PO Box 382110\n",
       "               ...        \n",
       "79553           Washington\n",
       "79554           Montgomery\n",
       "79555              Phoenix\n",
       "79556              Phoenix\n",
       "79557                  NaN\n",
       "Name: 10860 Patowmack Dr, Length: 79558, dtype: object"
      ]
     },
     "execution_count": 23,
     "metadata": {},
     "output_type": "execute_result"
    }
   ],
   "source": [
    "ryan.iloc[:, 12]"
   ]
  },
  {
   "cell_type": "code",
   "execution_count": 48,
   "id": "c85d6c72",
   "metadata": {},
   "outputs": [],
   "source": [
    "columns_list = ['Last', 'First', 'Address', 'State', 'Amount', 'Total']"
   ]
  },
  {
   "cell_type": "code",
   "execution_count": 54,
   "id": "d4b1f576",
   "metadata": {},
   "outputs": [
    {
     "data": {
      "text/html": [
       "<div>\n",
       "<style scoped>\n",
       "    .dataframe tbody tr th:only-of-type {\n",
       "        vertical-align: middle;\n",
       "    }\n",
       "\n",
       "    .dataframe tbody tr th {\n",
       "        vertical-align: top;\n",
       "    }\n",
       "\n",
       "    .dataframe thead th {\n",
       "        text-align: right;\n",
       "    }\n",
       "</style>\n",
       "<table border=\"1\" class=\"dataframe\">\n",
       "  <thead>\n",
       "    <tr style=\"text-align: right;\">\n",
       "      <th></th>\n",
       "      <th>Last</th>\n",
       "      <th>First</th>\n",
       "      <th>Address</th>\n",
       "      <th>State</th>\n",
       "      <th>Amount</th>\n",
       "      <th>Total</th>\n",
       "      <th>Name</th>\n",
       "    </tr>\n",
       "  </thead>\n",
       "  <tbody>\n",
       "    <tr>\n",
       "      <th>0</th>\n",
       "      <td>NaN</td>\n",
       "      <td>NaN</td>\n",
       "      <td>PO Box 382110</td>\n",
       "      <td>MA</td>\n",
       "      <td>250.0</td>\n",
       "      <td>7989448.90</td>\n",
       "      <td>NaN</td>\n",
       "    </tr>\n",
       "    <tr>\n",
       "      <th>1</th>\n",
       "      <td>Aarons</td>\n",
       "      <td>Ellen</td>\n",
       "      <td>4752 Constance Dr</td>\n",
       "      <td>CA</td>\n",
       "      <td>50.0</td>\n",
       "      <td>439.29</td>\n",
       "      <td>Ellen Aarons</td>\n",
       "    </tr>\n",
       "    <tr>\n",
       "      <th>2</th>\n",
       "      <td>NaN</td>\n",
       "      <td>NaN</td>\n",
       "      <td>PO Box 382110</td>\n",
       "      <td>MA</td>\n",
       "      <td>50.0</td>\n",
       "      <td>7989448.90</td>\n",
       "      <td>NaN</td>\n",
       "    </tr>\n",
       "    <tr>\n",
       "      <th>3</th>\n",
       "      <td>Abarbanel</td>\n",
       "      <td>Eliot</td>\n",
       "      <td>1142 Woodbine Ave</td>\n",
       "      <td>IL</td>\n",
       "      <td>100.0</td>\n",
       "      <td>400.00</td>\n",
       "      <td>Eliot Abarbanel</td>\n",
       "    </tr>\n",
       "    <tr>\n",
       "      <th>4</th>\n",
       "      <td>NaN</td>\n",
       "      <td>NaN</td>\n",
       "      <td>PO Box 382110</td>\n",
       "      <td>MA</td>\n",
       "      <td>100.0</td>\n",
       "      <td>7989448.90</td>\n",
       "      <td>NaN</td>\n",
       "    </tr>\n",
       "  </tbody>\n",
       "</table>\n",
       "</div>"
      ],
      "text/plain": [
       "        Last  First            Address State  Amount       Total  \\\n",
       "0        NaN    NaN      PO Box 382110    MA   250.0  7989448.90   \n",
       "1     Aarons  Ellen  4752 Constance Dr    CA    50.0      439.29   \n",
       "2        NaN    NaN      PO Box 382110    MA    50.0  7989448.90   \n",
       "3  Abarbanel  Eliot  1142 Woodbine Ave    IL   100.0      400.00   \n",
       "4        NaN    NaN      PO Box 382110    MA   100.0  7989448.90   \n",
       "\n",
       "              Name  \n",
       "0              NaN  \n",
       "1     Ellen Aarons  \n",
       "2              NaN  \n",
       "3  Eliot Abarbanel  \n",
       "4              NaN  "
      ]
     },
     "execution_count": 54,
     "metadata": {},
     "output_type": "execute_result"
    }
   ],
   "source": [
    "ryan_all = pd.DataFrame(ryan.iloc[: ,[7, 8, 12, 15, 20, 21]])\n",
    "ryan_all.columns = columns_list\n",
    "ryan_all['Name'] = ryan_summary['First'] + ' ' + ryan_summary['Last']\n",
    "ryan_all.head()"
   ]
  },
  {
   "cell_type": "code",
   "execution_count": 53,
   "id": "c4b30446",
   "metadata": {},
   "outputs": [
    {
     "data": {
      "text/html": [
       "<div>\n",
       "<style scoped>\n",
       "    .dataframe tbody tr th:only-of-type {\n",
       "        vertical-align: middle;\n",
       "    }\n",
       "\n",
       "    .dataframe tbody tr th {\n",
       "        vertical-align: top;\n",
       "    }\n",
       "\n",
       "    .dataframe thead th {\n",
       "        text-align: right;\n",
       "    }\n",
       "</style>\n",
       "<table border=\"1\" class=\"dataframe\">\n",
       "  <thead>\n",
       "    <tr style=\"text-align: right;\">\n",
       "      <th></th>\n",
       "      <th>Last</th>\n",
       "      <th>First</th>\n",
       "      <th>Address</th>\n",
       "      <th>State</th>\n",
       "      <th>Amount</th>\n",
       "      <th>Total</th>\n",
       "      <th>Name</th>\n",
       "    </tr>\n",
       "  </thead>\n",
       "  <tbody>\n",
       "    <tr>\n",
       "      <th>0</th>\n",
       "      <td>WOLF</td>\n",
       "      <td>JEANNE</td>\n",
       "      <td>1330 MOONMIST DR</td>\n",
       "      <td>FL</td>\n",
       "      <td>2900.0</td>\n",
       "      <td>2900.0</td>\n",
       "      <td>0         JEANNE\\n1        STEPHEN\\n2         ...</td>\n",
       "    </tr>\n",
       "    <tr>\n",
       "      <th>1</th>\n",
       "      <td>WOLF</td>\n",
       "      <td>STEPHEN</td>\n",
       "      <td>1330 MOONMIST DR</td>\n",
       "      <td>FL</td>\n",
       "      <td>-2900.0</td>\n",
       "      <td>5800.0</td>\n",
       "      <td>0         JEANNE\\n1        STEPHEN\\n2         ...</td>\n",
       "    </tr>\n",
       "    <tr>\n",
       "      <th>2</th>\n",
       "      <td>PECK</td>\n",
       "      <td>JOHN</td>\n",
       "      <td>5940 WATSON AVE</td>\n",
       "      <td>TX</td>\n",
       "      <td>5000.0</td>\n",
       "      <td>5800.0</td>\n",
       "      <td>0         JEANNE\\n1        STEPHEN\\n2         ...</td>\n",
       "    </tr>\n",
       "    <tr>\n",
       "      <th>3</th>\n",
       "      <td>PECK</td>\n",
       "      <td>JOHN</td>\n",
       "      <td>5940 WATSON AVE</td>\n",
       "      <td>TX</td>\n",
       "      <td>-2100.0</td>\n",
       "      <td>5800.0</td>\n",
       "      <td>0         JEANNE\\n1        STEPHEN\\n2         ...</td>\n",
       "    </tr>\n",
       "    <tr>\n",
       "      <th>4</th>\n",
       "      <td>PECK</td>\n",
       "      <td>VERA</td>\n",
       "      <td>5940 WATSON AVE</td>\n",
       "      <td>TX</td>\n",
       "      <td>2900.0</td>\n",
       "      <td>2900.0</td>\n",
       "      <td>0         JEANNE\\n1        STEPHEN\\n2         ...</td>\n",
       "    </tr>\n",
       "  </tbody>\n",
       "</table>\n",
       "</div>"
      ],
      "text/plain": [
       "   Last    First           Address State  Amount   Total  \\\n",
       "0  WOLF   JEANNE  1330 MOONMIST DR    FL  2900.0  2900.0   \n",
       "1  WOLF  STEPHEN  1330 MOONMIST DR    FL -2900.0  5800.0   \n",
       "2  PECK     JOHN   5940 WATSON AVE    TX  5000.0  5800.0   \n",
       "3  PECK     JOHN   5940 WATSON AVE    TX -2100.0  5800.0   \n",
       "4  PECK     VERA   5940 WATSON AVE    TX  2900.0  2900.0   \n",
       "\n",
       "                                                Name  \n",
       "0  0         JEANNE\\n1        STEPHEN\\n2         ...  \n",
       "1  0         JEANNE\\n1        STEPHEN\\n2         ...  \n",
       "2  0         JEANNE\\n1        STEPHEN\\n2         ...  \n",
       "3  0         JEANNE\\n1        STEPHEN\\n2         ...  \n",
       "4  0         JEANNE\\n1        STEPHEN\\n2         ...  "
      ]
     },
     "execution_count": 53,
     "metadata": {},
     "output_type": "execute_result"
    }
   ],
   "source": [
    "vance_all = pd.DataFrame(vance.iloc[: ,[7, 8, 12, 15, 20, 21]])\n",
    "vance_all.columns = columns_list\n",
    "vance_all['Name'] = str(vance_summary['First']) + ' ' + str(vance_summary['Last'])\n",
    "vance_all.head()"
   ]
  },
  {
   "cell_type": "markdown",
   "id": "abb9af25",
   "metadata": {},
   "source": [
    "The structure of the data is a little poor, but the addition of the name will be used as a unique identifier to sum the contributions and create a visualization. "
   ]
  }
 ],
 "metadata": {
  "kernelspec": {
   "display_name": "Python 3 (ipykernel)",
   "language": "python",
   "name": "python3"
  },
  "language_info": {
   "codemirror_mode": {
    "name": "ipython",
    "version": 3
   },
   "file_extension": ".py",
   "mimetype": "text/x-python",
   "name": "python",
   "nbconvert_exporter": "python",
   "pygments_lexer": "ipython3",
   "version": "3.10.4"
  }
 },
 "nbformat": 4,
 "nbformat_minor": 5
}
