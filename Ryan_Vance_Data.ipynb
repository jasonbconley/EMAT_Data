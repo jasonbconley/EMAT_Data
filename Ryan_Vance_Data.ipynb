{
 "cells": [
  {
   "cell_type": "markdown",
   "id": "80cf42f9",
   "metadata": {},
   "source": [
    "This report was created by Jason Conley as a final project for Dr. Silva's class at Kent State University."
   ]
  },
  {
   "cell_type": "markdown",
   "id": "d10eba74",
   "metadata": {},
   "source": [
    "# The Story\n",
    "\n",
    "The Senate race in Ohio in 2022 was heated and had many eyes looking to see who would take the Red State's open Senate seat. Ohio voted for Trump both times, but Tim Ryan was not going to go down quietly. Ryan had support from many democratic voters and organizations inside and outside of the State, so the race was up in the air according to polls until votes began to be counted. \n",
    "\n",
    "In the end, Ryan lost by a significant margin. This report is looking to explore the finances of both campaigns and see where the most support for each candidate came from."
   ]
  },
  {
   "cell_type": "markdown",
   "id": "7f8685d7",
   "metadata": {},
   "source": [
    "## Hypothesis \n",
    "\n",
    "Most of the donations for each of the candidates will originate from outside of Ohio, but in-state donations will still be a large portion of the donations.\n",
    "\n",
    "Below are all of the required libraries for the exploration. "
   ]
  },
  {
   "cell_type": "code",
   "execution_count": 1,
   "id": "4a0accc2",
   "metadata": {},
   "outputs": [],
   "source": [
    "import requests\n",
    "import pandas as pd\n",
    "import numpy as np\n",
    "import seaborn as sns"
   ]
  },
  {
   "cell_type": "markdown",
   "id": "3d36ea51",
   "metadata": {},
   "source": [
    "## Acquiring the Data\n",
    "The following files were downloaded manually from the FEC website. The datasets will be used to analyze where the individual contributions were coming from for both candidates.\n",
    "\n",
    "There are a few rows at the bottom of each file with some totals and extranenous information. These were removed."
   ]
  },
  {
   "cell_type": "code",
   "execution_count": 2,
   "id": "80f6a7a9",
   "metadata": {},
   "outputs": [],
   "source": [
    "ryan = pd.read_excel('ryan.xlsx')\n",
    "vance = pd.read_excel('vance.xlsx')"
   ]
  },
  {
   "cell_type": "code",
   "execution_count": 3,
   "id": "c85d6c72",
   "metadata": {},
   "outputs": [],
   "source": [
    "columns_list = ['Company','Address', 'State', 'Amount']"
   ]
  },
  {
   "cell_type": "code",
   "execution_count": 4,
   "id": "d4b1f576",
   "metadata": {},
   "outputs": [
    {
     "data": {
      "text/plain": [
       "79558"
      ]
     },
     "execution_count": 4,
     "metadata": {},
     "output_type": "execute_result"
    }
   ],
   "source": [
    "ryan_all = pd.DataFrame(ryan.iloc[: ,[6, 12, 15, 20]])\n",
    "ryan_all.columns = columns_list\n",
    "len(ryan_all.index)"
   ]
  },
  {
   "cell_type": "markdown",
   "id": "073ddcad",
   "metadata": {},
   "source": [
    "There are 80,000 rows in the Ryan dataset. It should be noted that many are from the ACTBLUE organization. The background to this is that ACTBLUE would put on donation events where they would match any donation made by supporters for a given time. "
   ]
  },
  {
   "cell_type": "code",
   "execution_count": 5,
   "id": "c4b30446",
   "metadata": {},
   "outputs": [
    {
     "data": {
      "text/plain": [
       "14485"
      ]
     },
     "execution_count": 5,
     "metadata": {},
     "output_type": "execute_result"
    }
   ],
   "source": [
    "vance_all = pd.DataFrame(vance.iloc[: ,[6, 12, 15, 20]])\n",
    "vance_all.columns = columns_list\n",
    "len(vance_all.index)"
   ]
  },
  {
   "cell_type": "markdown",
   "id": "53044e20",
   "metadata": {},
   "source": [
    "The Vance dataset has significantly less donations in terms of quanitity.\n",
    "\n",
    "The following cells transform the dataset into a single dataframe containing Company, State, Candidate, and Amount. The amounts are the summed amounts for each of the individual donators. The address, company, and state columns are used as keys to sum the amount. This is done because it is assumed that any triplet of company, address, and state represent an individual donator."
   ]
  },
  {
   "cell_type": "code",
   "execution_count": 98,
   "id": "066a2482",
   "metadata": {},
   "outputs": [],
   "source": [
    "from math import isnan\n",
    "ryan_totals = ryan_all.groupby(['Company','Address','State']).sum(['Amount']).reset_index()\n",
    "ryan_totals.drop_duplicates(subset=['Address'], keep='first', inplace=True)\n",
    "ryan_totals['Cand'] = 'ryan'\n",
    "vance_totals = vance_all.groupby(['Company','Address', 'State']).sum(['Amount']).reset_index()\n",
    "vance_totals.drop_duplicates(subset=['Address'], keep='first', inplace=True)\n",
    "vance_totals['Cand'] = 'vance'"
   ]
  },
  {
   "cell_type": "code",
   "execution_count": 113,
   "id": "d8b6b004",
   "metadata": {},
   "outputs": [
    {
     "name": "stdout",
     "output_type": "stream",
     "text": [
      "217\n"
     ]
    }
   ],
   "source": [
    "totals = pd.concat([ryan_totals, vance_totals])\n",
    "totals = totals.astype({'Address':'string', 'State':'string'})\n",
    "totals.drop(['Address'], axis = 1, inplace = True)\n",
    "totals = totals[totals.Amount != 0.0]\n",
    "totals = totals[totals.Amount.notnull()]\n",
    "totals = totals.groupby(['Company', 'State', 'Cand']).sum(['Amount']).reset_index()\n",
    "totals = totals.astype({'Amount':'int'})\n",
    "print(len(totals.index))"
   ]
  },
  {
   "cell_type": "markdown",
   "id": "3519529f",
   "metadata": {},
   "source": [
    "There are 217 unique Company, State, and Candidate pairings across both campaigns. This is expexted because many entries were left blank for the company column, so they were likely summed into one entry."
   ]
  },
  {
   "cell_type": "code",
   "execution_count": 114,
   "id": "00f530b4",
   "metadata": {},
   "outputs": [
    {
     "data": {
      "text/html": [
       "<div>\n",
       "<style scoped>\n",
       "    .dataframe tbody tr th:only-of-type {\n",
       "        vertical-align: middle;\n",
       "    }\n",
       "\n",
       "    .dataframe tbody tr th {\n",
       "        vertical-align: top;\n",
       "    }\n",
       "\n",
       "    .dataframe thead th {\n",
       "        text-align: right;\n",
       "    }\n",
       "</style>\n",
       "<table border=\"1\" class=\"dataframe\">\n",
       "  <thead>\n",
       "    <tr style=\"text-align: right;\">\n",
       "      <th></th>\n",
       "      <th>Company</th>\n",
       "      <th>State</th>\n",
       "      <th>Cand</th>\n",
       "      <th>Amount</th>\n",
       "    </tr>\n",
       "  </thead>\n",
       "  <tbody>\n",
       "    <tr>\n",
       "      <th>0</th>\n",
       "      <td>2022 FOUNDERS COMMITTEE</td>\n",
       "      <td>TX</td>\n",
       "      <td>vance</td>\n",
       "      <td>13368</td>\n",
       "    </tr>\n",
       "    <tr>\n",
       "      <th>1</th>\n",
       "      <td>697 East Broad LLC</td>\n",
       "      <td>OH</td>\n",
       "      <td>ryan</td>\n",
       "      <td>6500</td>\n",
       "    </tr>\n",
       "    <tr>\n",
       "      <th>2</th>\n",
       "      <td>ACADEMY OF RAIL LABOR ATTORNEYS POLITICAL ACTI...</td>\n",
       "      <td>DC</td>\n",
       "      <td>ryan</td>\n",
       "      <td>5000</td>\n",
       "    </tr>\n",
       "    <tr>\n",
       "      <th>3</th>\n",
       "      <td>ACTBLUE</td>\n",
       "      <td>MA</td>\n",
       "      <td>ryan</td>\n",
       "      <td>4140682</td>\n",
       "    </tr>\n",
       "    <tr>\n",
       "      <th>4</th>\n",
       "      <td>ADOBE</td>\n",
       "      <td>CA</td>\n",
       "      <td>vance</td>\n",
       "      <td>174</td>\n",
       "    </tr>\n",
       "    <tr>\n",
       "      <th>...</th>\n",
       "      <td>...</td>\n",
       "      <td>...</td>\n",
       "      <td>...</td>\n",
       "      <td>...</td>\n",
       "    </tr>\n",
       "    <tr>\n",
       "      <th>212</th>\n",
       "      <td>WERNER ENTERPRISES, INC. PAC</td>\n",
       "      <td>NE</td>\n",
       "      <td>vance</td>\n",
       "      <td>2500</td>\n",
       "    </tr>\n",
       "    <tr>\n",
       "      <th>213</th>\n",
       "      <td>WINRED</td>\n",
       "      <td>VA</td>\n",
       "      <td>vance</td>\n",
       "      <td>53465</td>\n",
       "    </tr>\n",
       "    <tr>\n",
       "      <th>214</th>\n",
       "      <td>Whole Foods</td>\n",
       "      <td>DC</td>\n",
       "      <td>ryan</td>\n",
       "      <td>223</td>\n",
       "    </tr>\n",
       "    <tr>\n",
       "      <th>215</th>\n",
       "      <td>Wilke Communications</td>\n",
       "      <td>MD</td>\n",
       "      <td>ryan</td>\n",
       "      <td>3500</td>\n",
       "    </tr>\n",
       "    <tr>\n",
       "      <th>216</th>\n",
       "      <td>YUHASZ BROTHERS LLC</td>\n",
       "      <td>OH</td>\n",
       "      <td>vance</td>\n",
       "      <td>1000</td>\n",
       "    </tr>\n",
       "  </tbody>\n",
       "</table>\n",
       "<p>217 rows × 4 columns</p>\n",
       "</div>"
      ],
      "text/plain": [
       "                                               Company State   Cand   Amount\n",
       "0                              2022 FOUNDERS COMMITTEE    TX  vance    13368\n",
       "1                                   697 East Broad LLC    OH   ryan     6500\n",
       "2    ACADEMY OF RAIL LABOR ATTORNEYS POLITICAL ACTI...    DC   ryan     5000\n",
       "3                                              ACTBLUE    MA   ryan  4140682\n",
       "4                                                ADOBE    CA  vance      174\n",
       "..                                                 ...   ...    ...      ...\n",
       "212                       WERNER ENTERPRISES, INC. PAC    NE  vance     2500\n",
       "213                                             WINRED    VA  vance    53465\n",
       "214                                        Whole Foods    DC   ryan      223\n",
       "215                               Wilke Communications    MD   ryan     3500\n",
       "216                                YUHASZ BROTHERS LLC    OH  vance     1000\n",
       "\n",
       "[217 rows x 4 columns]"
      ]
     },
     "execution_count": 114,
     "metadata": {},
     "output_type": "execute_result"
    }
   ],
   "source": [
    "totals"
   ]
  },
  {
   "cell_type": "code",
   "execution_count": 116,
   "id": "7ab2e0c5",
   "metadata": {},
   "outputs": [
    {
     "data": {
      "text/plain": [
       "67811.60368663595"
      ]
     },
     "execution_count": 116,
     "metadata": {},
     "output_type": "execute_result"
    }
   ],
   "source": [
    "totals['Amount'].mean()"
   ]
  },
  {
   "cell_type": "markdown",
   "id": "c23fe5b5",
   "metadata": {},
   "source": [
    "This is the average sum for a company and state pair for both candidates. The following are for each candidate individually."
   ]
  },
  {
   "cell_type": "code",
   "execution_count": 117,
   "id": "a07d4270",
   "metadata": {},
   "outputs": [
    {
     "name": "stdout",
     "output_type": "stream",
     "text": [
      "85602.95\n",
      "35463.7012987013\n"
     ]
    }
   ],
   "source": [
    "ryan = totals['Cand'] == 'ryan'\n",
    "vance = totals['Cand'] == 'vance'\n",
    "\n",
    "print(totals[ryan]['Amount'].mean())\n",
    "print(totals[vance]['Amount'].mean())"
   ]
  },
  {
   "cell_type": "markdown",
   "id": "df2e3517",
   "metadata": {},
   "source": [
    "The average for donations to the Ryan campaign were much higher than those to the Vance campaign. These are just descriptive numbers, but the volume of donations as compared between both candidates is interesting."
   ]
  },
  {
   "cell_type": "code",
   "execution_count": 118,
   "id": "44971587",
   "metadata": {},
   "outputs": [
    {
     "data": {
      "image/png": "[encoded data removed]",
      "text/plain": [
       "<Figure size 640x480 with 1 Axes>"
      ]
     },
     "metadata": {},
     "output_type": "display_data"
    }
   ],
   "source": [
    "plt.boxplot(totals['Amount'])\n",
    "plt.show()"
   ]
  },
  {
   "cell_type": "markdown",
   "id": "b7be0779",
   "metadata": {},
   "source": [
    "This boxplot is not useful because of the outliers in the dataset. A few companies spent a lot more money as the majority of donations. "
   ]
  },
  {
   "cell_type": "code",
   "execution_count": 108,
   "id": "6cd584c0",
   "metadata": {},
   "outputs": [
    {
     "data": {
      "text/plain": [
       "50"
      ]
     },
     "execution_count": 108,
     "metadata": {},
     "output_type": "execute_result"
    }
   ],
   "source": [
    "len(totals[totals['Amount'] < 250])"
   ]
  },
  {
   "cell_type": "code",
   "execution_count": 121,
   "id": "67528a83",
   "metadata": {},
   "outputs": [
    {
     "data": {
      "text/plain": [
       "35"
      ]
     },
     "execution_count": 121,
     "metadata": {},
     "output_type": "execute_result"
    }
   ],
   "source": [
    "len(totals[totals['Amount'] > 10000])"
   ]
  },
  {
   "cell_type": "markdown",
   "id": "330ab27f",
   "metadata": {},
   "source": [
    "Lets take a look at the distribution of donations under a sum of 1000 dollars. This can be safely assumed to be small companies and individual donations."
   ]
  },
  {
   "cell_type": "code",
   "execution_count": 110,
   "id": "e7e70c1d",
   "metadata": {},
   "outputs": [
    {
     "data": {
      "text/plain": [
       "<AxesSubplot: >"
      ]
     },
     "execution_count": 110,
     "metadata": {},
     "output_type": "execute_result"
    },
    {
     "data": {
      "image/png": "[encoded data removed]",
      "text/plain": [
       "<Figure size 640x480 with 1 Axes>"
      ]
     },
     "metadata": {},
     "output_type": "display_data"
    }
   ],
   "source": [
    "lower = totals['Amount'] < 5000\n",
    "\n",
    "sns.boxplot(data=[totals[ryan & lower]['Amount'], totals[vance & lower]['Amount']])"
   ]
  },
  {
   "cell_type": "markdown",
   "id": "e733c379",
   "metadata": {},
   "source": [
    "A much better plot! We can see that Ryans campaign has a larger percentage of donations in the lowest tiers. The mean for Vance donations is much higher as compared to the Ryan campaign. This can be interpreted as meaning a few things, but a safe interpretation is that individuals who donated to the vance campaign were more likely to donate a higher amount.\n",
    "\n",
    "A logistic model could be made with the current dataset, and a prediction could be made whether or not an amount was donated to the Ryan campaign or the Vance campaign. This would not be useful in the current state of the project because of the limited size of the two buckets."
   ]
  },
  {
   "cell_type": "code",
   "execution_count": 111,
   "id": "102db894",
   "metadata": {},
   "outputs": [
    {
     "name": "stdout",
     "output_type": "stream",
     "text": [
      "104\n",
      "55\n"
     ]
    }
   ],
   "source": [
    "print(len(totals[lower & ryan]['Amount']))\n",
    "print(len(totals[vance & lower]['Amount']))"
   ]
  },
  {
   "cell_type": "markdown",
   "id": "084e5433",
   "metadata": {},
   "source": [
    "The above plots shed some more light on the data that has been gathered. The Ryan campaign has many large number donations as compared to the Vance campaign. Lets have a look at the top 20 companies who donated a sum under 5000 dollars for each campaign."
   ]
  },
  {
   "cell_type": "code",
   "execution_count": 50,
   "id": "59fd3caa",
   "metadata": {},
   "outputs": [
    {
     "data": {
      "text/html": [
       "<div>\n",
       "<style scoped>\n",
       "    .dataframe tbody tr th:only-of-type {\n",
       "        vertical-align: middle;\n",
       "    }\n",
       "\n",
       "    .dataframe tbody tr th {\n",
       "        vertical-align: top;\n",
       "    }\n",
       "\n",
       "    .dataframe thead th {\n",
       "        text-align: right;\n",
       "    }\n",
       "</style>\n",
       "<table border=\"1\" class=\"dataframe\">\n",
       "  <thead>\n",
       "    <tr style=\"text-align: right;\">\n",
       "      <th></th>\n",
       "      <th>Company</th>\n",
       "      <th>Amount</th>\n",
       "      <th>State</th>\n",
       "    </tr>\n",
       "  </thead>\n",
       "  <tbody>\n",
       "    <tr>\n",
       "      <th>60</th>\n",
       "      <td>Democratic Women Of South Orange County</td>\n",
       "      <td>4000.00</td>\n",
       "      <td>CA</td>\n",
       "    </tr>\n",
       "    <tr>\n",
       "      <th>215</th>\n",
       "      <td>Wilke Communications</td>\n",
       "      <td>3500.00</td>\n",
       "      <td>MD</td>\n",
       "    </tr>\n",
       "    <tr>\n",
       "      <th>78</th>\n",
       "      <td>First Bank Merchant Services</td>\n",
       "      <td>2949.46</td>\n",
       "      <td>GA</td>\n",
       "    </tr>\n",
       "    <tr>\n",
       "      <th>51</th>\n",
       "      <td>DAVIS DEMOCRATIC CLUB</td>\n",
       "      <td>2900.00</td>\n",
       "      <td>CA</td>\n",
       "    </tr>\n",
       "    <tr>\n",
       "      <th>139</th>\n",
       "      <td>Mission Control</td>\n",
       "      <td>2650.00</td>\n",
       "      <td>CT</td>\n",
       "    </tr>\n",
       "    <tr>\n",
       "      <th>39</th>\n",
       "      <td>CLEVELAND-CLIFFS INC. POLITICAL ACTION COMMITTEE</td>\n",
       "      <td>2500.00</td>\n",
       "      <td>OH</td>\n",
       "    </tr>\n",
       "    <tr>\n",
       "      <th>129</th>\n",
       "      <td>MASTERS, MATES AND PILOTS POLITICAL CONTRIBUTI...</td>\n",
       "      <td>2500.00</td>\n",
       "      <td>MD</td>\n",
       "    </tr>\n",
       "    <tr>\n",
       "      <th>109</th>\n",
       "      <td>INTERNATIONAL ASSOCIATION OF HEAT &amp; FROST INSU...</td>\n",
       "      <td>2500.00</td>\n",
       "      <td>MD</td>\n",
       "    </tr>\n",
       "    <tr>\n",
       "      <th>55</th>\n",
       "      <td>DLA PIPER LLP (US) POLITICAL ACTION COMMITTEE ...</td>\n",
       "      <td>2500.00</td>\n",
       "      <td>DC</td>\n",
       "    </tr>\n",
       "    <tr>\n",
       "      <th>7</th>\n",
       "      <td>AMERICAN ACADEMY OF FAMILY PHYSICIANS POLITICA...</td>\n",
       "      <td>2500.00</td>\n",
       "      <td>DC</td>\n",
       "    </tr>\n",
       "    <tr>\n",
       "      <th>25</th>\n",
       "      <td>BLUE SENATE CANDIDATE FUND</td>\n",
       "      <td>2380.00</td>\n",
       "      <td>DC</td>\n",
       "    </tr>\n",
       "    <tr>\n",
       "      <th>141</th>\n",
       "      <td>NARAL PRO-CHOICE AMERICA PAC</td>\n",
       "      <td>2250.00</td>\n",
       "      <td>DC</td>\n",
       "    </tr>\n",
       "    <tr>\n",
       "      <th>161</th>\n",
       "      <td>REPAIR THE WORLD PAC</td>\n",
       "      <td>2000.00</td>\n",
       "      <td>DC</td>\n",
       "    </tr>\n",
       "    <tr>\n",
       "      <th>80</th>\n",
       "      <td>Fraioli &amp; Associates</td>\n",
       "      <td>1875.00</td>\n",
       "      <td>DC</td>\n",
       "    </tr>\n",
       "    <tr>\n",
       "      <th>45</th>\n",
       "      <td>CallTime.Ai</td>\n",
       "      <td>1698.96</td>\n",
       "      <td>CA</td>\n",
       "    </tr>\n",
       "    <tr>\n",
       "      <th>138</th>\n",
       "      <td>Marriott Beverly Hills</td>\n",
       "      <td>1683.64</td>\n",
       "      <td>CA</td>\n",
       "    </tr>\n",
       "    <tr>\n",
       "      <th>167</th>\n",
       "      <td>Residence Inn Dublin</td>\n",
       "      <td>1400.58</td>\n",
       "      <td>OH</td>\n",
       "    </tr>\n",
       "    <tr>\n",
       "      <th>103</th>\n",
       "      <td>Hanhart Agency, Inc</td>\n",
       "      <td>1360.00</td>\n",
       "      <td>OH</td>\n",
       "    </tr>\n",
       "    <tr>\n",
       "      <th>102</th>\n",
       "      <td>Hampton Inn Niles</td>\n",
       "      <td>1306.99</td>\n",
       "      <td>OH</td>\n",
       "    </tr>\n",
       "  </tbody>\n",
       "</table>\n",
       "</div>"
      ],
      "text/plain": [
       "                                               Company   Amount State\n",
       "60             Democratic Women Of South Orange County  4000.00    CA\n",
       "215                               Wilke Communications  3500.00    MD\n",
       "78                        First Bank Merchant Services  2949.46    GA\n",
       "51                               DAVIS DEMOCRATIC CLUB  2900.00    CA\n",
       "139                                    Mission Control  2650.00    CT\n",
       "39    CLEVELAND-CLIFFS INC. POLITICAL ACTION COMMITTEE  2500.00    OH\n",
       "129  MASTERS, MATES AND PILOTS POLITICAL CONTRIBUTI...  2500.00    MD\n",
       "109  INTERNATIONAL ASSOCIATION OF HEAT & FROST INSU...  2500.00    MD\n",
       "55   DLA PIPER LLP (US) POLITICAL ACTION COMMITTEE ...  2500.00    DC\n",
       "7    AMERICAN ACADEMY OF FAMILY PHYSICIANS POLITICA...  2500.00    DC\n",
       "25                          BLUE SENATE CANDIDATE FUND  2380.00    DC\n",
       "141                       NARAL PRO-CHOICE AMERICA PAC  2250.00    DC\n",
       "161                               REPAIR THE WORLD PAC  2000.00    DC\n",
       "80                                Fraioli & Associates  1875.00    DC\n",
       "45                                         CallTime.Ai  1698.96    CA\n",
       "138                             Marriott Beverly Hills  1683.64    CA\n",
       "167                               Residence Inn Dublin  1400.58    OH\n",
       "103                                Hanhart Agency, Inc  1360.00    OH\n",
       "102                                  Hampton Inn Niles  1306.99    OH"
      ]
     },
     "execution_count": 50,
     "metadata": {},
     "output_type": "execute_result"
    }
   ],
   "source": [
    "totals[ryan & lower].sort_values(['Amount'], ascending=False)[['Company','Amount', 'State']].iloc[1:20]"
   ]
  },
  {
   "cell_type": "markdown",
   "id": "e4dec008",
   "metadata": {},
   "source": [
    "There are some interesting companies in this list. Some democractic organzizations, a trade union, and a tech company from CA!"
   ]
  },
  {
   "cell_type": "code",
   "execution_count": 51,
   "id": "6b5cf454",
   "metadata": {},
   "outputs": [
    {
     "data": {
      "text/html": [
       "<div>\n",
       "<style scoped>\n",
       "    .dataframe tbody tr th:only-of-type {\n",
       "        vertical-align: middle;\n",
       "    }\n",
       "\n",
       "    .dataframe tbody tr th {\n",
       "        vertical-align: top;\n",
       "    }\n",
       "\n",
       "    .dataframe thead th {\n",
       "        text-align: right;\n",
       "    }\n",
       "</style>\n",
       "<table border=\"1\" class=\"dataframe\">\n",
       "  <thead>\n",
       "    <tr style=\"text-align: right;\">\n",
       "      <th></th>\n",
       "      <th>Company</th>\n",
       "      <th>Amount</th>\n",
       "      <th>State</th>\n",
       "    </tr>\n",
       "  </thead>\n",
       "  <tbody>\n",
       "    <tr>\n",
       "      <th>72</th>\n",
       "      <td>FRIENDS OF JOHN THUNE</td>\n",
       "      <td>3800.00</td>\n",
       "      <td>SD</td>\n",
       "    </tr>\n",
       "    <tr>\n",
       "      <th>44</th>\n",
       "      <td>CPR SOLUTIONS LLC</td>\n",
       "      <td>3500.00</td>\n",
       "      <td>OH</td>\n",
       "    </tr>\n",
       "    <tr>\n",
       "      <th>8</th>\n",
       "      <td>AMERICANS UNITED IN SUPPORT OF DEMOCRACY</td>\n",
       "      <td>3000.00</td>\n",
       "      <td>IL</td>\n",
       "    </tr>\n",
       "    <tr>\n",
       "      <th>99</th>\n",
       "      <td>HOMELIFE PROPERTIES</td>\n",
       "      <td>2900.00</td>\n",
       "      <td>OH</td>\n",
       "    </tr>\n",
       "    <tr>\n",
       "      <th>177</th>\n",
       "      <td>STONE WORKS PARTNERS, LLC</td>\n",
       "      <td>2900.00</td>\n",
       "      <td>OH</td>\n",
       "    </tr>\n",
       "    <tr>\n",
       "      <th>117</th>\n",
       "      <td>LIBERTY SUMMIT LLC</td>\n",
       "      <td>2900.00</td>\n",
       "      <td>OH</td>\n",
       "    </tr>\n",
       "    <tr>\n",
       "      <th>101</th>\n",
       "      <td>HUNTSMAN CORPORATION PAC</td>\n",
       "      <td>2500.00</td>\n",
       "      <td>TX</td>\n",
       "    </tr>\n",
       "    <tr>\n",
       "      <th>212</th>\n",
       "      <td>WERNER ENTERPRISES, INC. PAC</td>\n",
       "      <td>2500.00</td>\n",
       "      <td>NE</td>\n",
       "    </tr>\n",
       "    <tr>\n",
       "      <th>88</th>\n",
       "      <td>GUARDIAN LEADERSHIP PAC</td>\n",
       "      <td>2500.00</td>\n",
       "      <td>FL</td>\n",
       "    </tr>\n",
       "    <tr>\n",
       "      <th>70</th>\n",
       "      <td>FLOWERS FOODS PAC</td>\n",
       "      <td>2500.00</td>\n",
       "      <td>GA</td>\n",
       "    </tr>\n",
       "    <tr>\n",
       "      <th>94</th>\n",
       "      <td>HANNAH HUEMME</td>\n",
       "      <td>2495.64</td>\n",
       "      <td>OH</td>\n",
       "    </tr>\n",
       "    <tr>\n",
       "      <th>52</th>\n",
       "      <td>DEMOCRACY ENGINE</td>\n",
       "      <td>2012.50</td>\n",
       "      <td>DC</td>\n",
       "    </tr>\n",
       "    <tr>\n",
       "      <th>145</th>\n",
       "      <td>NGA GROCERS PAC</td>\n",
       "      <td>2000.00</td>\n",
       "      <td>VA</td>\n",
       "    </tr>\n",
       "    <tr>\n",
       "      <th>190</th>\n",
       "      <td>THE TIMKEN COMPANY GOOD GOVERNMENT FUND</td>\n",
       "      <td>2000.00</td>\n",
       "      <td>OH</td>\n",
       "    </tr>\n",
       "    <tr>\n",
       "      <th>93</th>\n",
       "      <td>HANCOCK COUNTY REPUBLICAN</td>\n",
       "      <td>2000.00</td>\n",
       "      <td>OH</td>\n",
       "    </tr>\n",
       "    <tr>\n",
       "      <th>69</th>\n",
       "      <td>FEDEX</td>\n",
       "      <td>1877.87</td>\n",
       "      <td>OH</td>\n",
       "    </tr>\n",
       "    <tr>\n",
       "      <th>130</th>\n",
       "      <td>MATTHEW WILLIAMS</td>\n",
       "      <td>1684.73</td>\n",
       "      <td>OH</td>\n",
       "    </tr>\n",
       "    <tr>\n",
       "      <th>64</th>\n",
       "      <td>ENTERPRISE RENT A CAR</td>\n",
       "      <td>1189.95</td>\n",
       "      <td>OH</td>\n",
       "    </tr>\n",
       "    <tr>\n",
       "      <th>74</th>\n",
       "      <td>FUELED COLLECTIVE LLC</td>\n",
       "      <td>1125.00</td>\n",
       "      <td>OH</td>\n",
       "    </tr>\n",
       "  </tbody>\n",
       "</table>\n",
       "</div>"
      ],
      "text/plain": [
       "                                      Company   Amount State\n",
       "72                      FRIENDS OF JOHN THUNE  3800.00    SD\n",
       "44                          CPR SOLUTIONS LLC  3500.00    OH\n",
       "8    AMERICANS UNITED IN SUPPORT OF DEMOCRACY  3000.00    IL\n",
       "99                        HOMELIFE PROPERTIES  2900.00    OH\n",
       "177                 STONE WORKS PARTNERS, LLC  2900.00    OH\n",
       "117                        LIBERTY SUMMIT LLC  2900.00    OH\n",
       "101                  HUNTSMAN CORPORATION PAC  2500.00    TX\n",
       "212              WERNER ENTERPRISES, INC. PAC  2500.00    NE\n",
       "88                    GUARDIAN LEADERSHIP PAC  2500.00    FL\n",
       "70                          FLOWERS FOODS PAC  2500.00    GA\n",
       "94                              HANNAH HUEMME  2495.64    OH\n",
       "52                           DEMOCRACY ENGINE  2012.50    DC\n",
       "145                           NGA GROCERS PAC  2000.00    VA\n",
       "190   THE TIMKEN COMPANY GOOD GOVERNMENT FUND  2000.00    OH\n",
       "93                  HANCOCK COUNTY REPUBLICAN  2000.00    OH\n",
       "69                                      FEDEX  1877.87    OH\n",
       "130                          MATTHEW WILLIAMS  1684.73    OH\n",
       "64                      ENTERPRISE RENT A CAR  1189.95    OH\n",
       "74                      FUELED COLLECTIVE LLC  1125.00    OH"
      ]
     },
     "execution_count": 51,
     "metadata": {},
     "output_type": "execute_result"
    }
   ],
   "source": [
    "totals.where(vance & lower).sort_values(['Amount'], ascending=False)[['Company','Amount', 'State']].iloc[1:20]"
   ]
  },
  {
   "cell_type": "markdown",
   "id": "95fe3e69",
   "metadata": {},
   "source": [
    "The composition of the Vance list is some more PACs, Fedex, and a company that builds houses. Not much can be implied from these lists because the data quality is unknown, but they are interesting to look into. Lets look at the top companies across all amounts."
   ]
  },
  {
   "cell_type": "code",
   "execution_count": 88,
   "id": "8c743d40",
   "metadata": {},
   "outputs": [
    {
     "data": {
      "text/plain": [
       "<AxesSubplot: xlabel='State'>"
      ]
     },
     "execution_count": 88,
     "metadata": {},
     "output_type": "execute_result"
    },
    {
     "data": {
      "image/png": "[encoded data removed]",
      "text/plain": [
       "<Figure size 640x480 with 1 Axes>"
      ]
     },
     "metadata": {},
     "output_type": "display_data"
    }
   ],
   "source": [
    "ryan_20 = totals[ryan].groupby('State').sum(numeric_only = True).sort_values(['Amount'], ascending=False)\n",
    "ryan_20.iloc[0:20].plot.bar()"
   ]
  },
  {
   "cell_type": "markdown",
   "id": "df93ccb7",
   "metadata": {},
   "source": [
    "California has it in for Ryan! I am suprised they topped all of the donations from ACTBLUE in MA, but I guess the sum is greater than the individual. Below is the dataframe for completeness."
   ]
  },
  {
   "cell_type": "code",
   "execution_count": 92,
   "id": "3fb638dd",
   "metadata": {},
   "outputs": [
    {
     "data": {
      "text/html": [
       "<div>\n",
       "<style scoped>\n",
       "    .dataframe tbody tr th:only-of-type {\n",
       "        vertical-align: middle;\n",
       "    }\n",
       "\n",
       "    .dataframe tbody tr th {\n",
       "        vertical-align: top;\n",
       "    }\n",
       "\n",
       "    .dataframe thead th {\n",
       "        text-align: right;\n",
       "    }\n",
       "</style>\n",
       "<table border=\"1\" class=\"dataframe\">\n",
       "  <thead>\n",
       "    <tr style=\"text-align: right;\">\n",
       "      <th></th>\n",
       "      <th>Company</th>\n",
       "      <th>Amount</th>\n",
       "      <th>State</th>\n",
       "    </tr>\n",
       "  </thead>\n",
       "  <tbody>\n",
       "    <tr>\n",
       "      <th>3</th>\n",
       "      <td>ACTBLUE</td>\n",
       "      <td>4140682.85</td>\n",
       "      <td>MA</td>\n",
       "    </tr>\n",
       "    <tr>\n",
       "      <th>149</th>\n",
       "      <td>OHIO DEMOCRATIC PARTY</td>\n",
       "      <td>753000.00</td>\n",
       "      <td>OH</td>\n",
       "    </tr>\n",
       "    <tr>\n",
       "      <th>196</th>\n",
       "      <td>Tim Ryan Victory Fund 2022</td>\n",
       "      <td>452150.31</td>\n",
       "      <td>OH</td>\n",
       "    </tr>\n",
       "    <tr>\n",
       "      <th>14</th>\n",
       "      <td>ActBlue Technical Services</td>\n",
       "      <td>312925.30</td>\n",
       "      <td>MA</td>\n",
       "    </tr>\n",
       "    <tr>\n",
       "      <th>81</th>\n",
       "      <td>Fraiser LLC</td>\n",
       "      <td>300000.00</td>\n",
       "      <td>DC</td>\n",
       "    </tr>\n",
       "    <tr>\n",
       "      <th>18</th>\n",
       "      <td>American Express</td>\n",
       "      <td>284979.41</td>\n",
       "      <td>AZ</td>\n",
       "    </tr>\n",
       "    <tr>\n",
       "      <th>30</th>\n",
       "      <td>Blue Action Inc</td>\n",
       "      <td>141764.66</td>\n",
       "      <td>DC</td>\n",
       "    </tr>\n",
       "    <tr>\n",
       "      <th>92</th>\n",
       "      <td>Gusto</td>\n",
       "      <td>115498.10</td>\n",
       "      <td>CA</td>\n",
       "    </tr>\n",
       "    <tr>\n",
       "      <th>6</th>\n",
       "      <td>ALG Polling Inc</td>\n",
       "      <td>113627.22</td>\n",
       "      <td>AL</td>\n",
       "    </tr>\n",
       "    <tr>\n",
       "      <th>75</th>\n",
       "      <td>Facebook</td>\n",
       "      <td>104284.51</td>\n",
       "      <td>CA</td>\n",
       "    </tr>\n",
       "    <tr>\n",
       "      <th>197</th>\n",
       "      <td>Truverse Inc</td>\n",
       "      <td>99839.05</td>\n",
       "      <td>CA</td>\n",
       "    </tr>\n",
       "    <tr>\n",
       "      <th>158</th>\n",
       "      <td>Politics Rewired</td>\n",
       "      <td>61526.81</td>\n",
       "      <td>NY</td>\n",
       "    </tr>\n",
       "    <tr>\n",
       "      <th>159</th>\n",
       "      <td>Premiere Transportation</td>\n",
       "      <td>57731.50</td>\n",
       "      <td>TN</td>\n",
       "    </tr>\n",
       "    <tr>\n",
       "      <th>180</th>\n",
       "      <td>Savage III LLC</td>\n",
       "      <td>41506.63</td>\n",
       "      <td>CA</td>\n",
       "    </tr>\n",
       "    <tr>\n",
       "      <th>46</th>\n",
       "      <td>Campaign Finance Consultants, Inc</td>\n",
       "      <td>30146.18</td>\n",
       "      <td>DC</td>\n",
       "    </tr>\n",
       "    <tr>\n",
       "      <th>53</th>\n",
       "      <td>DEMOCRACY ENGINE, INC., PAC</td>\n",
       "      <td>20980.00</td>\n",
       "      <td>DC</td>\n",
       "    </tr>\n",
       "    <tr>\n",
       "      <th>114</th>\n",
       "      <td>JSTREET PAC</td>\n",
       "      <td>20773.63</td>\n",
       "      <td>DC</td>\n",
       "    </tr>\n",
       "    <tr>\n",
       "      <th>79</th>\n",
       "      <td>FortyTWO Event Production</td>\n",
       "      <td>19500.00</td>\n",
       "      <td>OH</td>\n",
       "    </tr>\n",
       "    <tr>\n",
       "      <th>119</th>\n",
       "      <td>Law Offices Of Michael Morley</td>\n",
       "      <td>13000.00</td>\n",
       "      <td>OH</td>\n",
       "    </tr>\n",
       "  </tbody>\n",
       "</table>\n",
       "</div>"
      ],
      "text/plain": [
       "                               Company      Amount State\n",
       "3                              ACTBLUE  4140682.85    MA\n",
       "149              OHIO DEMOCRATIC PARTY   753000.00    OH\n",
       "196         Tim Ryan Victory Fund 2022   452150.31    OH\n",
       "14          ActBlue Technical Services   312925.30    MA\n",
       "81                         Fraiser LLC   300000.00    DC\n",
       "18                    American Express   284979.41    AZ\n",
       "30                     Blue Action Inc   141764.66    DC\n",
       "92                               Gusto   115498.10    CA\n",
       "6                      ALG Polling Inc   113627.22    AL\n",
       "75                            Facebook   104284.51    CA\n",
       "197                       Truverse Inc    99839.05    CA\n",
       "158                   Politics Rewired    61526.81    NY\n",
       "159            Premiere Transportation    57731.50    TN\n",
       "180                     Savage III LLC    41506.63    CA\n",
       "46   Campaign Finance Consultants, Inc    30146.18    DC\n",
       "53         DEMOCRACY ENGINE, INC., PAC    20980.00    DC\n",
       "114                        JSTREET PAC    20773.63    DC\n",
       "79           FortyTWO Event Production    19500.00    OH\n",
       "119      Law Offices Of Michael Morley    13000.00    OH"
      ]
     },
     "execution_count": 92,
     "metadata": {},
     "output_type": "execute_result"
    }
   ],
   "source": [
    "totals[ryan].sort_values(['Amount'], ascending=False)[['Company','Amount', 'State']].iloc[1:20]"
   ]
  },
  {
   "cell_type": "markdown",
   "id": "89ad1109",
   "metadata": {},
   "source": [
    "Looks like some tech companies are responsible for the large donations from California."
   ]
  },
  {
   "cell_type": "code",
   "execution_count": 89,
   "id": "a2a08c5f",
   "metadata": {},
   "outputs": [
    {
     "data": {
      "text/plain": [
       "<AxesSubplot: xlabel='State'>"
      ]
     },
     "execution_count": 89,
     "metadata": {},
     "output_type": "execute_result"
    },
    {
     "data": {
      "image/png": "[encoded data removed]",
      "text/plain": [
       "<Figure size 640x480 with 1 Axes>"
      ]
     },
     "metadata": {},
     "output_type": "display_data"
    }
   ],
   "source": [
    "vance_20 = totals[vance].groupby('State').sum(numeric_only = True).sort_values(['Amount'], ascending=False)\n",
    "vance_20.iloc[0:20].plot.bar()"
   ]
  },
  {
   "cell_type": "markdown",
   "id": "49a6fb8d",
   "metadata": {},
   "source": [
    "Virginia came through big for Vance!"
   ]
  },
  {
   "cell_type": "code",
   "execution_count": 95,
   "id": "dddcffe2",
   "metadata": {},
   "outputs": [
    {
     "data": {
      "text/html": [
       "<div>\n",
       "<style scoped>\n",
       "    .dataframe tbody tr th:only-of-type {\n",
       "        vertical-align: middle;\n",
       "    }\n",
       "\n",
       "    .dataframe tbody tr th {\n",
       "        vertical-align: top;\n",
       "    }\n",
       "\n",
       "    .dataframe thead th {\n",
       "        text-align: right;\n",
       "    }\n",
       "</style>\n",
       "<table border=\"1\" class=\"dataframe\">\n",
       "  <thead>\n",
       "    <tr style=\"text-align: right;\">\n",
       "      <th></th>\n",
       "      <th>Company</th>\n",
       "      <th>Amount</th>\n",
       "      <th>State</th>\n",
       "    </tr>\n",
       "  </thead>\n",
       "  <tbody>\n",
       "    <tr>\n",
       "      <th>131</th>\n",
       "      <td>MCCARTHY HENNINGS WHALEN INC.</td>\n",
       "      <td>80749.78</td>\n",
       "      <td>DC</td>\n",
       "    </tr>\n",
       "    <tr>\n",
       "      <th>173</th>\n",
       "      <td>SOUTHWEST PUBLISHING &amp; MAILING</td>\n",
       "      <td>64973.81</td>\n",
       "      <td>KS</td>\n",
       "    </tr>\n",
       "    <tr>\n",
       "      <th>67</th>\n",
       "      <td>FABRIZIO LEE &amp; ASSOCIATES LLC</td>\n",
       "      <td>56000.00</td>\n",
       "      <td>FL</td>\n",
       "    </tr>\n",
       "    <tr>\n",
       "      <th>213</th>\n",
       "      <td>WINRED</td>\n",
       "      <td>53465.71</td>\n",
       "      <td>VA</td>\n",
       "    </tr>\n",
       "    <tr>\n",
       "      <th>13</th>\n",
       "      <td>ATLAS &amp; MIGHT</td>\n",
       "      <td>49761.00</td>\n",
       "      <td>PA</td>\n",
       "    </tr>\n",
       "    <tr>\n",
       "      <th>5</th>\n",
       "      <td>ADVANCE STRATEGIES</td>\n",
       "      <td>30000.00</td>\n",
       "      <td>FL</td>\n",
       "    </tr>\n",
       "    <tr>\n",
       "      <th>40</th>\n",
       "      <td>CMDI</td>\n",
       "      <td>29022.60</td>\n",
       "      <td>VA</td>\n",
       "    </tr>\n",
       "    <tr>\n",
       "      <th>87</th>\n",
       "      <td>GRASSROOTS TARGETING</td>\n",
       "      <td>25000.00</td>\n",
       "      <td>VA</td>\n",
       "    </tr>\n",
       "    <tr>\n",
       "      <th>100</th>\n",
       "      <td>HUCKABY DAVIS LISKER INC.</td>\n",
       "      <td>13573.84</td>\n",
       "      <td>VA</td>\n",
       "    </tr>\n",
       "    <tr>\n",
       "      <th>0</th>\n",
       "      <td>2022 FOUNDERS COMMITTEE</td>\n",
       "      <td>13368.26</td>\n",
       "      <td>TX</td>\n",
       "    </tr>\n",
       "    <tr>\n",
       "      <th>189</th>\n",
       "      <td>TAKE BACK THE SENATE</td>\n",
       "      <td>11907.40</td>\n",
       "      <td>VA</td>\n",
       "    </tr>\n",
       "    <tr>\n",
       "      <th>22</th>\n",
       "      <td>BELMONT STRATEGIES</td>\n",
       "      <td>10000.00</td>\n",
       "      <td>MA</td>\n",
       "    </tr>\n",
       "    <tr>\n",
       "      <th>108</th>\n",
       "      <td>INSPERITY</td>\n",
       "      <td>9156.79</td>\n",
       "      <td>TX</td>\n",
       "    </tr>\n",
       "    <tr>\n",
       "      <th>38</th>\n",
       "      <td>CLARKE &amp; SAMPSON</td>\n",
       "      <td>9096.15</td>\n",
       "      <td>VA</td>\n",
       "    </tr>\n",
       "    <tr>\n",
       "      <th>206</th>\n",
       "      <td>VERACRUZ COMMUNICATIONS INC.</td>\n",
       "      <td>7500.00</td>\n",
       "      <td>TN</td>\n",
       "    </tr>\n",
       "    <tr>\n",
       "      <th>154</th>\n",
       "      <td>PCS MARKETING GROUP LLC</td>\n",
       "      <td>6715.31</td>\n",
       "      <td>OH</td>\n",
       "    </tr>\n",
       "    <tr>\n",
       "      <th>35</th>\n",
       "      <td>CALIFORNIA DAIRIES PAC</td>\n",
       "      <td>5000.00</td>\n",
       "      <td>CA</td>\n",
       "    </tr>\n",
       "    <tr>\n",
       "      <th>23</th>\n",
       "      <td>BLUE AND GOLD FUND</td>\n",
       "      <td>5000.00</td>\n",
       "      <td>MA</td>\n",
       "    </tr>\n",
       "    <tr>\n",
       "      <th>208</th>\n",
       "      <td>VSS &amp; P FED PAC</td>\n",
       "      <td>5000.00</td>\n",
       "      <td>OH</td>\n",
       "    </tr>\n",
       "  </tbody>\n",
       "</table>\n",
       "</div>"
      ],
      "text/plain": [
       "                            Company    Amount State\n",
       "131   MCCARTHY HENNINGS WHALEN INC.  80749.78    DC\n",
       "173  SOUTHWEST PUBLISHING & MAILING  64973.81    KS\n",
       "67    FABRIZIO LEE & ASSOCIATES LLC  56000.00    FL\n",
       "213                          WINRED  53465.71    VA\n",
       "13                    ATLAS & MIGHT  49761.00    PA\n",
       "5                ADVANCE STRATEGIES  30000.00    FL\n",
       "40                             CMDI  29022.60    VA\n",
       "87             GRASSROOTS TARGETING  25000.00    VA\n",
       "100       HUCKABY DAVIS LISKER INC.  13573.84    VA\n",
       "0           2022 FOUNDERS COMMITTEE  13368.26    TX\n",
       "189            TAKE BACK THE SENATE  11907.40    VA\n",
       "22               BELMONT STRATEGIES  10000.00    MA\n",
       "108                       INSPERITY   9156.79    TX\n",
       "38                 CLARKE & SAMPSON   9096.15    VA\n",
       "206    VERACRUZ COMMUNICATIONS INC.   7500.00    TN\n",
       "154         PCS MARKETING GROUP LLC   6715.31    OH\n",
       "35           CALIFORNIA DAIRIES PAC   5000.00    CA\n",
       "23               BLUE AND GOLD FUND   5000.00    MA\n",
       "208                 VSS & P FED PAC   5000.00    OH"
      ]
     },
     "execution_count": 95,
     "metadata": {},
     "output_type": "execute_result"
    }
   ],
   "source": [
    "totals[vance].sort_values(['Amount'], ascending=False)[['Company','Amount', 'State']].iloc[1:20]"
   ]
  },
  {
   "cell_type": "markdown",
   "id": "1f07a17b",
   "metadata": {},
   "source": [
    "Looks like some corporate index company, Huckaby Davis, and WinRed are responsible for the large donation amount."
   ]
  },
  {
   "cell_type": "markdown",
   "id": "0865ff68",
   "metadata": {},
   "source": [
    "This concludes my exploration into the Ryan and Vance campaign finance data. It seems that my hypothesis is very wrong. For the Vance campaign, Ohio made a very small percentage of total donations from all States. In the Ryan campaign, Ohio comes in third for total donations. All together, it is obvious that a lot of outside money was flowing into both campaigns. \n",
    "\n",
    "This is likely not the whole story. [Open Secrets](https://www.opensecrets.org/races/summary?cycle=2022&id=OHS2) has some additional information regarding campaign finance data. There are possibly some rules that allow both candidates to not reveal all of their finances, or maybe they are not required to do so until some later date. If any new data does become available, it would be intersting to re-run this notebook with the new files. "
   ]
  }
 ],
 "metadata": {
  "kernelspec": {
   "display_name": "Python 3 (ipykernel)",
   "language": "python",
   "name": "python3"
  },
  "language_info": {
   "codemirror_mode": {
    "name": "ipython",
    "version": 3
   },
   "file_extension": ".py",
   "mimetype": "text/x-python",
   "name": "python",
   "nbconvert_exporter": "python",
   "pygments_lexer": "ipython3",
   "version": "3.11.1"
  }
 },
 "nbformat": 4,
 "nbformat_minor": 5
}
